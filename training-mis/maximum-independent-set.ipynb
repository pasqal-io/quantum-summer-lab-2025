{
 "cells": [
  {
   "cell_type": "markdown",
   "metadata": {
    "slideshow": {
     "slide_type": "slide"
    }
   },
   "source": [
    "# Maximum Independent Set\n",
    "\n",
    "or\n",
    "\n",
    "**Let's use Quantum computers to solve optimization problems!**\n",
    "\n",
    "(I promise, no $|0>$ or $|1>$)\n",
    "\n",
    "---\n",
    "\n",
    "## Before we start\n",
    "\n",
    "Don't hesitate to ask me to go faster or slower!\n",
    "\n",
    "Find this notebook at https://github.com/pasqal-io/quantum-summer-lab-2025/.\n",
    "\n",
    ">>>> Please download it (with or without `git`)."
   ]
  },
  {
   "cell_type": "code",
   "execution_count": null,
   "metadata": {},
   "outputs": [],
   "source": [
    "%pip install maximum-independent-set"
   ]
  },
  {
   "cell_type": "markdown",
   "metadata": {},
   "source": [
    "\n",
    "Any question, now or later? We have a Slack: https://join.slack.com/t/pasqal-community/shared_invite/zt-3c7awg903-F7RYBucMMj~bZkUkoXeklQ .\n",
    "\n",
    "## Today's menu\n",
    "\n",
    "1. From Research to Industry.\n",
    "2. Introduction to Maximum Independent Set.\n",
    "3. Using Maximum Independent Set to solve real-world problems.\n",
    "4. A quick glimpse behind the Quantum curtain.\n",
    "5. Going further -- and a ­challenge!"
   ]
  },
  {
   "attachments": {
    "image.png": {
     "image/png": "[encoded data removed]"
    }
   },
   "cell_type": "markdown",
   "metadata": {
    "slideshow": {
     "slide_type": "slide"
    }
   },
   "source": [
    "---\n",
    "\n",
    "## From Research to Industry\n",
    "\n",
    "### About Pasqal\n",
    "\n",
    "![image.png](attachment:image.png)\n",
    "\n",
    "- We build (and ship!) Quantum Computers (aka QPUs).\n",
    "- We currently ship _analog_ QPUs\n",
    "    - ... and sell QPU time.\n",
    "    - ... and sell HPC emulator time.\n",
    "    - ... and write software to exploit QPUs.\n",
    "- Analog + digital QPUs [soon](https://www.pasqal.com/technology/roadmap/) (tm).\n",
    "\n",
    "### About the Pasqal Open-Source Community\n",
    "\n",
    "- Much quantum software to this day is _theoretical_.\n",
    "    - Not meant to be usable on commercial Quantum Computers.\n",
    "    - Written by quantum computing researchers for quantum computing researchers.\n",
    "    - ...and that's very important!\n",
    "- ...but we'd like to do more!\n",
    "    - Our software runs on QPUs (or emulators).\n",
    "    - We're adapting researcher's work for general use.\n",
    "- Open-source.\n",
    "- [https://community.pasqal.com](https://community.pasqal.com)\n",
    "\n",
    "### about:speaker\n",
    "\n",
    "![a customized portrait of the speaker.png](about-speaker.png)\n",
    "\n",
    "David \"Yoric\" Teller\n",
    "\n",
    "Just an open-source/compiler guy, working for a hardware company.\n",
    "\n",
    "(and asking dumb questions during the Q# session)"
   ]
  },
  {
   "cell_type": "markdown",
   "metadata": {},
   "source": [
    "---\n",
    "\n",
    "## It starts with graphs\n",
    "\n",
    "Graphs are all the rage!"
   ]
  },
  {
   "cell_type": "code",
   "execution_count": null,
   "metadata": {},
   "outputs": [],
   "source": [
    "import networkx as nx\n",
    "\n",
    "example_graph = nx.Graph()\n",
    "CLIQUE_NODES = [f\"clique_{i}\" for i in range(10)]\n",
    "INDIVIDUAL_NODES = [f\"individual_{i}\" for i in range(10)]\n",
    "\n",
    "example_graph.add_nodes_from(CLIQUE_NODES)\n",
    "example_graph.add_nodes_from(INDIVIDUAL_NODES)\n",
    "\n",
    "for i, node in enumerate(CLIQUE_NODES):\n",
    "    for node_2 in CLIQUE_NODES[i+1:]:\n",
    "        example_graph.add_edge(node, node_2)\n",
    "\n",
    "for node in INDIVIDUAL_NODES:\n",
    "    example_graph.add_edge(CLIQUE_NODES[0], node)\n",
    "    example_graph.add_edge(CLIQUE_NODES[1], node)\n",
    "\n",
    "nx.draw_kamada_kawai(example_graph)"
   ]
  },
  {
   "cell_type": "markdown",
   "metadata": {},
   "source": [
    "A few applications of graphs:\n",
    "\n",
    "- represent molecules;\n",
    "- represent roads;\n",
    "- represent dependencies;\n",
    "- represent _conflicts_.\n",
    "\n",
    "### Graphs work _very_ well with quantum\n",
    "\n",
    "- In classical computing, graphs require loops.\n",
    "- In (pure) Quantum Computing, you don't get loops, but...\n",
    "- ...in (analog) Quantum Computing, the physics provide the loop.\n",
    "- ...in (analog) Quantum Computing, programs _are_ graphs + operations.\n",
    "- ...if you can write your operation as a Ising Hamiltonian, you should be able to run it in constant time on a Quantum Computer.\n"
   ]
  },
  {
   "cell_type": "code",
   "execution_count": null,
   "metadata": {},
   "outputs": [],
   "source": [
    "nx.draw_kamada_kawai(example_graph)\n"
   ]
  },
  {
   "cell_type": "markdown",
   "metadata": {},
   "source": [
    "### Maximum Independent Set (MIS)\n",
    "\n",
    "It starts with a graph $G=(V, E)$. Each node is a possible action to take. Two nodes are connected if they are in _conflict_.\n",
    "\n",
    "**Independent Set** Given an undirected graph $G=(V, E)$, a set of nodes $V' \\subseteq V$ is _independent_ in $G$ if $V'^2 \\cap E = \\empty$.\n",
    "\n",
    "Or: an **Independent Set** is a set of non-conflicting actions."
   ]
  },
  {
   "cell_type": "code",
   "execution_count": null,
   "metadata": {},
   "outputs": [],
   "source": [
    "nx.draw_kamada_kawai(example_graph, nodelist=[INDIVIDUAL_NODES[0], INDIVIDUAL_NODES[1]])"
   ]
  },
  {
   "cell_type": "markdown",
   "metadata": {},
   "source": [
    "**MaximAL Independent Set** Given a graph $G=(V, E)$, a set of nodes $V'$ is a MaximAL Independent Set if there is no $V''$ such that satisfies all of:\n",
    "- $V' \\subsetneq V''$\n",
    "- $V'' \\subseteq V$\n",
    "- $V''$ is independent in $G$.\n",
    "\n",
    "Or: a **MaximAL Independent Set** is a set of non-conflicting actions that you can't grow without triggering a conflict."
   ]
  },
  {
   "cell_type": "code",
   "execution_count": null,
   "metadata": {},
   "outputs": [],
   "source": [
    "nx.draw_kamada_kawai(example_graph, nodelist=[CLIQUE_NODES[0]])"
   ]
  },
  {
   "cell_type": "markdown",
   "metadata": {},
   "source": [
    "\n",
    "**MaximUM Independent Set** (MIS) Given a graph $G=(V, E)$, a set of nodes $V'$ is a MaximUM Independent Set if there is no $V''$ such that satisfies all of:\n",
    "- $|V''| > |V'|$\n",
    "- $V''$ is independent in $G$.\n",
    "\n",
    "Or: a **Maximum Independent Set** is a largest set of non-conflicting actions, i.e. a \"best solution\"."
   ]
  },
  {
   "cell_type": "code",
   "execution_count": null,
   "metadata": {},
   "outputs": [],
   "source": [
    "import itertools\n",
    "nx.draw_kamada_kawai(example_graph, nodelist=list(itertools.chain(INDIVIDUAL_NODES, [CLIQUE_NODES[2]])))"
   ]
  },
  {
   "cell_type": "markdown",
   "metadata": {},
   "source": [
    "See also: Weighted Maximal/Maximum Independent Set.\n",
    "\n",
    "### Applications\n",
    "\n",
    "- Scheduling industrial processes (factory workflows, satellite launches, taxis, exams...)\n",
    "- Symbolic Artificial Intelligence, Theorem Proving, Static Application Security Testing\n",
    "- Circuit Design\n",
    "- Compiler Optimizations (register allocation), Graph Coloring\n",
    "- Solving puzzles (logical puzzles, sudoku, ...)\n",
    "- Dependendency management (software packages, ...)\n",
    "- ...\n",
    "\n",
    "### What about Quantum?\n",
    "\n",
    "Solving MIS is $O(3^{\\frac{n}{3}})$, i.e. _it quickly grows untractable_.\n",
    "\n",
    "Quantum can run many instances (not all) in _polynomial time_, i.e. exponentially faster.\n",
    "\n",
    "Part of the work is experimenting to determine whether we're in a good instance or how to pre-/post-process the graph to make it happen."
   ]
  },
  {
   "cell_type": "markdown",
   "metadata": {},
   "source": [
    "---\n",
    "\n",
    "## Tech setup\n",
    "\n",
    "You will need:\n",
    "\n",
    "1. Python 3.10+\n",
    "2. Either Visual Studio Code or some other mean to open a Jupyter Notebook\n",
    "3. This notebook\n",
    "\n",
    "### Download the notebook\n",
    "\n",
    "#### If you have git\n",
    "\n",
    "```sh\n",
    "$ cd YOUR_FAVORITE_DIRECTORY\n",
    "$ git clone https://github.com/pasqal-io/quantum-summer-lab-2025/\n",
    "```\n",
    "\n",
    "#### If you don't\n",
    "\n",
    "1. Open your browser at `https://github.com/pasqal-io/quantum-summer-lab-2025/`\n",
    "2. Navigate to `training-mis/maximum-independent-set.ipynb`.\n",
    "3. Save the file.\n",
    "\n",
    "\n",
    "### Starting\n",
    "\n",
    "1. Open Visual Studio Code.\n",
    "2. Install extension [Jupyter](https://marketplace.visualstudio.com/items?itemName=ms-toolsai.jupyter).\n",
    "3. Open `maximum-independent-set.ipynb` (this file)."
   ]
  },
  {
   "cell_type": "code",
   "execution_count": null,
   "metadata": {},
   "outputs": [],
   "source": [
    "# Let's install the dependencies.\n",
    "\n",
    "%pip install maximum-independent-set==0.2.2"
   ]
  },
  {
   "cell_type": "markdown",
   "metadata": {},
   "source": [
    "---\n",
    "\n",
    "## Graphs as conflicts\n",
    "\n",
    "1. I have access to Python `3.9`, `3.10`, `3.11`, `3.12`, `3.13`.\n",
    "2. I need package `mygreatlib` and package `anotherlib`.\n",
    "3. Package `mygreatlib` conflicts with Python `3.11` or Python `3.12`.\n",
    "4. Package `anotherlib` conflicts with Python `3.9` and Python `3.12`.\n",
    "\n",
    "Can I find a solution?\n",
    "\n",
    "Spoiler: yes.\n",
    "\n",
    "> ### Your turn\n",
    ">\n",
    "> 1. Draw this list of constraints into a graph of conflicts.\n",
    "> 2. Create a `networkx` graph to represent it.\n",
    "> 3. Draw it."
   ]
  },
  {
   "cell_type": "code",
   "execution_count": null,
   "metadata": {},
   "outputs": [],
   "source": [
    "import networkx as nx\n",
    "\n",
    "graph = nx.Graph()\n",
    "PYTHON_VERSIONS = [\"Python 3.9\", \"Python 3.10\", \"Python 3.11\", \"Python 3.12\", \"Python 3.13\"]\n",
    "graph.add_nodes_from(PYTHON_VERSIONS)\n",
    "graph.add_nodes_from([\"mygreatlib\", \"anotherlib\"])\n",
    "\n",
    "for i, v in enumerate(PYTHON_VERSIONS):\n",
    "    for w in PYTHON_VERSIONS[i+1:]:\n",
    "        graph.add_edge(v, w)\n",
    "\n",
    "graph.add_edge(\"mygreatlib\", \"Python 3.11\")\n",
    "graph.add_edge(\"mygreatlib\", \"Python 3.12\")\n",
    "graph.add_edge(\"anotherlib\", \"Python 3.9\")\n",
    "graph.add_edge(\"anotherlib\", \"Python 3.12\")\n",
    "\n",
    "nx.draw_spring(graph, with_labels=True)"
   ]
  },
  {
   "cell_type": "markdown",
   "metadata": {},
   "source": [
    "> ### Your turn\n",
    ">\n",
    "> 1. Can you find a Maximum Independent Set (manually)?\n",
    "> 2. Find one Independent Set that is not a subset of a Maximum Independent Set (manually)?"
   ]
  },
  {
   "cell_type": "markdown",
   "metadata": {},
   "source": [
    "### Solving this without Quantum"
   ]
  },
  {
   "cell_type": "code",
   "execution_count": null,
   "metadata": {},
   "outputs": [],
   "source": [
    "# Maximal independent set?\n",
    "nx.maximal_independent_set(graph)"
   ]
  },
  {
   "cell_type": "code",
   "execution_count": null,
   "metadata": {},
   "outputs": [],
   "source": [
    "# Maximum independent set?\n",
    "nx.approximation.maximum_independent_set(graph)"
   ]
  },
  {
   "cell_type": "markdown",
   "metadata": {},
   "source": [
    "> ### Your turn\n",
    ">\n",
    "> 1. Are these answers correct?\n",
    ">\n",
    "> 2. What happened?\n",
    "\n",
    "Solving MIS problems in the real world is... messy.\n",
    "\n",
    "See e.g. Python or Debian package resolution."
   ]
  },
  {
   "cell_type": "markdown",
   "metadata": {},
   "source": [
    "## Introducing Pasqal's `maximum-independent-set`\n",
    "\n",
    "A Python library that solves maximum independent sets using quantum.\n",
    "\n",
    "- On a physical QPU.\n",
    "- On HPC quantum emulators.\n",
    "- Or on a local quantum emulator.\n",
    "\n",
    "Documentation at: https://pasqal-io.github.io/maximum-independent-set/latest .\n",
    "\n",
    "### Hello, world\n"
   ]
  },
  {
   "cell_type": "code",
   "execution_count": null,
   "metadata": {},
   "outputs": [],
   "source": [
    "from mis import MISInstance\n",
    "\n",
    "# YOUR TURN: Wrap `graph` into a MISInstance.\n",
    "\n",
    "instance = MISInstance(graph)\n",
    "\n",
    "instance.draw()"
   ]
  },
  {
   "cell_type": "markdown",
   "metadata": {},
   "source": [
    "## Solving\n",
    "\n",
    "`mis` provides a _quantum solver_ ­-- and many ways to use it."
   ]
  },
  {
   "cell_type": "code",
   "execution_count": null,
   "metadata": {},
   "outputs": [],
   "source": [
    "from mis import MISSolver, SolverConfig, BackendConfig\n",
    "\n",
    "config = SolverConfig(\n",
    "    # Pick a reasonable quantum emulator.\n",
    "    backend=BackendConfig(),\n",
    "    max_number_of_solutions=10,\n",
    ")\n",
    "\n",
    "# Note: If you don't pick a config, it will use non-quantum solving.\n",
    "solver = MISSolver(instance, config)\n",
    "solutions = solver.solve()\n",
    "\n",
    "# Then draw all the solutions!\n",
    "for s in solutions:\n",
    "    s.draw()"
   ]
  },
  {
   "cell_type": "markdown",
   "metadata": {},
   "source": [
    "...and that's it.\n",
    "\n",
    "In many cases, that's all you need to use this library.\n",
    "\n",
    "> ### Your turn\n",
    ">\n",
    "> 1. What's the missing step to solve our original problem?\n",
    ">\n",
    "> 2. There's something wrong with `solutions`. What is it?\n"
   ]
  },
  {
   "cell_type": "markdown",
   "metadata": {},
   "source": [
    "---\n",
    "\n",
    "## Peeking behind the curtain\n",
    "\n",
    "Now that we know how to use the library, let's try and break it!\n",
    "\n",
    "### Compiling to quantum\n",
    "\n",
    "- We embed/compile the graph as (physical) atoms.\n",
    "- One node => one atom.\n",
    "- One edge => atoms must be close enough.\n",
    "- Energy states ensure that each atom behaves as one qubit.\n",
    "- A quantum emulator simulates the quantum mechanics of these atoms.\n",
    "- Quantum mechanics are (very) non-deterministic.\n",
    "\n",
    "> #### Your turn\n",
    ">\n",
    "> What are the limitations you may encounter compiling your graph to quantum?\n",
    ">\n",
    "> What are the limitations you may encounter running `mis` on an emulator?\n",
    ">\n",
    "> What are the limitations you may encounter running `mis` on a QPU?"
   ]
  },
  {
   "cell_type": "markdown",
   "metadata": {},
   "source": [
    "### Limiting qubit usage (opt-out)\n",
    "\n",
    "This library uses a graph pre-processor to simplify the graph before embedding it.\n",
    "\n",
    "Let's experiment.\n",
    "\n",
    "> #### Your turn\n",
    ">\n",
    "> 1. Deactivate the pre-processor in `SolverConfig`.\n",
    "> 2. Does it affect the results? Why?\n",
    "> 3. Try adding new constraints.\n",
    "> 4. How many constraints before your computer cannot run the problem anymore?\n",
    "> 5. Why?\n"
   ]
  },
  {
   "cell_type": "code",
   "execution_count": null,
   "metadata": {},
   "outputs": [],
   "source": [
    "from mis import MISSolver, SolverConfig, BackendConfig\n",
    "\n",
    "graph = nx.Graph()\n",
    "PYTHON_VERSIONS = [f\"Python 3.{n}\" for n in range(0,13)]\n",
    "graph.add_nodes_from(PYTHON_VERSIONS)\n",
    "graph.add_nodes_from([\"mygreatlib\", \"anotherlib\"])\n",
    "\n",
    "for i, v in enumerate(PYTHON_VERSIONS):\n",
    "    for w in PYTHON_VERSIONS[i+1:]:\n",
    "        graph.add_edge(v, w)\n",
    "\n",
    "graph.add_edge(\"mygreatlib\", \"Python 3.11\")\n",
    "graph.add_edge(\"mygreatlib\", \"Python 3.12\")\n",
    "graph.add_edge(\"anotherlib\", \"Python 3.9\")\n",
    "graph.add_edge(\"anotherlib\", \"Python 3.12\")\n",
    "\n",
    "nx.draw_spring(graph, with_labels=True)\n",
    "\n"
   ]
  },
  {
   "cell_type": "code",
   "execution_count": null,
   "metadata": {},
   "outputs": [],
   "source": [
    "from mis import BackendType\n",
    "\n",
    "instance = MISInstance(graph)\n",
    "config = SolverConfig(\n",
    "    # Pick a reasonable quantum emulator.\n",
    "    backend=BackendConfig(\n",
    "        backend=BackendType.EMU_MPS\n",
    "    ),\n",
    "    max_number_of_solutions=10,\n",
    "    preprocessor=None,\n",
    ")\n",
    "\n",
    "# Note: If you don't pick a config, it will use non-quantum solving.\n",
    "solver = MISSolver(instance, config)\n",
    "solutions = solver.solve()\n",
    "\n",
    "# Then draw all the solutions!\n",
    "for s in solutions:\n",
    "    s.draw()"
   ]
  },
  {
   "cell_type": "markdown",
   "metadata": {},
   "source": [
    "\n",
    "### Using more qubits (opt-in)\n",
    "\n",
    "1. use a physical QPU;\n",
    "2. use an optimized emulator;\n",
    "3. use a HPC cluster emulator.\n",
    "\n",
    "> #### Your turn\n",
    ">\n",
    "> 1. Use [`BackendConfig(backend=BackendType.EMUMPS)`](https://pasqal-io.github.io/maximum-independent-set/latest/api/mis/pipeline/config/#mis.pipeline.config.BackendConfig) to use a GPU-optimized emulator.\n",
    "> 2. How many constraints before your computer cannot run the problem anymore?\n",
    "\n",
    "### Limiting sensitivity to positions (out-out, opt-in)\n",
    "\n",
    "Some configurations don't map well to _geometric_ constraints.\n",
    "\n",
    "> #### Your turn\n",
    ">\n",
    "> How could we improve this?\n",
    "\n",
    "If you wish to experiment, that's `SolverConfig(method=MethodType.GREEDY)`.\n",
    "\n",
    "### Comparison\n",
    "\n",
    "> #### Your turn\n",
    ">\n",
    "> Very open question: what kind of tool do _you_ need? Something closer to Q#? Pulser? Or high-level libraries?"
   ]
  },
  {
   "cell_type": "markdown",
   "metadata": {},
   "source": [
    "---\n",
    "## Where do we go from here?\n",
    "\n",
    "### Problem variants\n",
    "\n",
    "- [Graph coloring](https://pasqal-io.github.io/maximum-independent-set/latest/tutorial%204%20-%20An%20application%20of%20MIS%20-%20Solving%20a%20Graph%20Coloring%20problem/)\n",
    "- [Boolean satisfiability](https://pasqal-io.github.io/maximum-independent-set/latest/tutorial%203%20-%20An%20application%20of%20MIS%20-%20Solving%20the%203SAT%20problem/)\n",
    "- etc.\n",
    "\n",
    "### Challenge!\n",
    "\n",
    "- [Pasqal Theater Festival](https://github.com/pasqal-io/quantum-summer-lab-2025/tree/main/challenge/pasqal-theater-festival) -- and win QPU time!\n",
    "\n",
    "### ...and more\n",
    "\n",
    "- Weighted Maximum Independent Set (soon)"
   ]
  },
  {
   "cell_type": "markdown",
   "metadata": {},
   "source": [
    "---\n",
    "\n",
    "## References\n",
    "\n",
    "1. Source, documentation, tutorials: https://github.com/pasqal-io/maximum-independent-set/ .\n",
    "2. The Pasqal community: https://join.slack.com/t/pasqal-community/shared_invite/zt-3c7awg903-F7RYBucMMj~bZkUkoXeklQ .\n",
    "3. More Pasqal software, access to QPUs, etc: https://community.pasqal.com/ .\n",
    "4. Pasqal roadmap: https://www.pasqal.com/technology/roadmap/ ."
   ]
  }
 ],
 "metadata": {
  "kernelspec": {
   "display_name": ".venv",
   "language": "python",
   "name": "python3"
  },
  "language_info": {
   "codemirror_mode": {
    "name": "ipython",
    "version": 3
   },
   "file_extension": ".py",
   "mimetype": "text/x-python",
   "name": "python",
   "nbconvert_exporter": "python",
   "pygments_lexer": "ipython3",
   "version": "3.12.3"
  }
 },
 "nbformat": 4,
 "nbformat_minor": 2
}
